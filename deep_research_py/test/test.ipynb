{
 "cells": [
  {
   "cell_type": "code",
   "execution_count": 3,
   "metadata": {},
   "outputs": [
    {
     "data": {
      "text/plain": [
       "'localcrawl'"
      ]
     },
     "execution_count": 3,
     "metadata": {},
     "output_type": "execute_result"
    }
   ],
   "source": [
    "import os\n",
    "from dotenv import load_dotenv\n",
    "\n",
    "# 加载 .env 文件\n",
    "load_dotenv()\n",
    "\n",
    "os.getenv(\"DEFAULT_SCRAPER\")\n",
    "\n",
    "os.getenv(\"DEFAULT_SCRAPER\", \"playwright_ddgs\")"
   ]
  },
  {
   "cell_type": "code",
   "execution_count": 4,
   "metadata": {},
   "outputs": [
    {
     "name": "stdout",
     "output_type": "stream",
     "text": [
      "BIDU 的分析师目标价为: 110.33171 , 最高价：157.89809 , 最低价：76.44739\n"
     ]
    }
   ],
   "source": [
    "import yfinance as yf\n",
    "\n",
    "def get_analyst_target_price(stock_code):\n",
    "    try:\n",
    "        # 创建 Ticker 对象\n",
    "        ticker = yf.Ticker(stock_code)\n",
    "        \n",
    "        # 获取股票信息\n",
    "        info = ticker.info\n",
    "        \n",
    "        #print(info)\n",
    "        # 提取分析师目标价\n",
    "        target_price = info.get('targetMeanPrice')\n",
    "        high_target_price = info.get('targetHighPrice')\n",
    "        low_target_price = info.get('targetLowPrice')\n",
    "        \n",
    "        if target_price is None:\n",
    "            return f\"没有找到 {stock_code} 的分析师目标价。\"\n",
    "        else:\n",
    "            return f\"{stock_code} 的分析师目标价为: {target_price} , 最高价：{high_target_price} , 最低价：{low_target_price}\"\n",
    "    \n",
    "    except Exception as e:\n",
    "        return f\"获取 {stock_code} 的数据时出错: {e}\"\n",
    "\n",
    "# 示例用法\n",
    "stock_code = \"BIDU\"  # 替换为你想查询的股票代码\n",
    "print(get_analyst_target_price(stock_code))"
   ]
  },
  {
   "cell_type": "code",
   "execution_count": 5,
   "metadata": {},
   "outputs": [
    {
     "name": "stdout",
     "output_type": "stream",
     "text": [
      "['MMM', 'AOS', 'ABT', 'ABBV', 'ACN', 'ADBE', 'AMD', 'AES', 'AFL', 'A', 'APD', 'ABNB', 'AKAM', 'ALB', 'ARE', 'ALGN', 'ALLE', 'LNT', 'ALL', 'GOOGL', 'GOOG', 'MO', 'AMZN', 'AMCR', 'AEE', 'AEP', 'AXP', 'AIG', 'AMT', 'AWK', 'AMP', 'AME', 'AMGN', 'APH', 'ADI', 'ANSS', 'AON', 'APA', 'APO', 'AAPL', 'AMAT', 'APTV', 'ACGL', 'ADM', 'ANET', 'AJG', 'AIZ', 'T', 'ATO', 'ADSK', 'ADP', 'AZO', 'AVB', 'AVY', 'AXON', 'BKR', 'BALL', 'BAC', 'BAX', 'BDX', 'BRK.B', 'BBY', 'TECH', 'BIIB', 'BLK', 'BX', 'BK', 'BA', 'BKNG', 'BWA', 'BSX', 'BMY', 'AVGO', 'BR', 'BRO', 'BF.B', 'BLDR', 'BG', 'BXP', 'CHRW', 'CDNS', 'CZR', 'CPT', 'CPB', 'COF', 'CAH', 'KMX', 'CCL', 'CARR', 'CAT', 'CBOE', 'CBRE', 'CDW', 'CE', 'COR', 'CNC', 'CNP', 'CF', 'CRL', 'SCHW', 'CHTR', 'CVX', 'CMG', 'CB', 'CHD', 'CI', 'CINF', 'CTAS', 'CSCO', 'C', 'CFG', 'CLX', 'CME', 'CMS', 'KO', 'CTSH', 'CL', 'CMCSA', 'CAG', 'COP', 'ED', 'STZ', 'CEG', 'COO', 'CPRT', 'GLW', 'CPAY', 'CTVA', 'CSGP', 'COST', 'CTRA', 'CRWD', 'CCI', 'CSX', 'CMI', 'CVS', 'DHR', 'DRI', 'DVA', 'DAY', 'DECK', 'DE', 'DELL', 'DAL', 'DVN', 'DXCM', 'FANG', 'DLR', 'DFS', 'DG', 'DLTR', 'D', 'DPZ', 'DOV', 'DOW', 'DHI', 'DTE', 'DUK', 'DD', 'EMN', 'ETN', 'EBAY', 'ECL', 'EIX', 'EW', 'EA', 'ELV', 'EMR', 'ENPH', 'ETR', 'EOG', 'EPAM', 'EQT', 'EFX', 'EQIX', 'EQR', 'ERIE', 'ESS', 'EL', 'EG', 'EVRG', 'ES', 'EXC', 'EXPE', 'EXPD', 'EXR', 'XOM', 'FFIV', 'FDS', 'FICO', 'FAST', 'FRT', 'FDX', 'FIS', 'FITB', 'FSLR', 'FE', 'FI', 'FMC', 'F', 'FTNT', 'FTV', 'FOXA', 'FOX', 'BEN', 'FCX', 'GRMN', 'IT', 'GE', 'GEHC', 'GEV', 'GEN', 'GNRC', 'GD', 'GIS', 'GM', 'GPC', 'GILD', 'GPN', 'GL', 'GDDY', 'GS', 'HAL', 'HIG', 'HAS', 'HCA', 'DOC', 'HSIC', 'HSY', 'HES', 'HPE', 'HLT', 'HOLX', 'HD', 'HON', 'HRL', 'HST', 'HWM', 'HPQ', 'HUBB', 'HUM', 'HBAN', 'HII', 'IBM', 'IEX', 'IDXX', 'ITW', 'INCY', 'IR', 'PODD', 'INTC', 'ICE', 'IFF', 'IP', 'IPG', 'INTU', 'ISRG', 'IVZ', 'INVH', 'IQV', 'IRM', 'JBHT', 'JBL', 'JKHY', 'J', 'JNJ', 'JCI', 'JPM', 'JNPR', 'K', 'KVUE', 'KDP', 'KEY', 'KEYS', 'KMB', 'KIM', 'KMI', 'KKR', 'KLAC', 'KHC', 'KR', 'LHX', 'LH', 'LRCX', 'LW', 'LVS', 'LDOS', 'LEN', 'LII', 'LLY', 'LIN', 'LYV', 'LKQ', 'LMT', 'L', 'LOW', 'LULU', 'LYB', 'MTB', 'MPC', 'MKTX', 'MAR', 'MMC', 'MLM', 'MAS', 'MA', 'MTCH', 'MKC', 'MCD', 'MCK', 'MDT', 'MRK', 'META', 'MET', 'MTD', 'MGM', 'MCHP', 'MU', 'MSFT', 'MAA', 'MRNA', 'MHK', 'MOH', 'TAP', 'MDLZ', 'MPWR', 'MNST', 'MCO', 'MS', 'MOS', 'MSI', 'MSCI', 'NDAQ', 'NTAP', 'NFLX', 'NEM', 'NWSA', 'NWS', 'NEE', 'NKE', 'NI', 'NDSN', 'NSC', 'NTRS', 'NOC', 'NCLH', 'NRG', 'NUE', 'NVDA', 'NVR', 'NXPI', 'ORLY', 'OXY', 'ODFL', 'OMC', 'ON', 'OKE', 'ORCL', 'OTIS', 'PCAR', 'PKG', 'PLTR', 'PANW', 'PARA', 'PH', 'PAYX', 'PAYC', 'PYPL', 'PNR', 'PEP', 'PFE', 'PCG', 'PM', 'PSX', 'PNW', 'PNC', 'POOL', 'PPG', 'PPL', 'PFG', 'PG', 'PGR', 'PLD', 'PRU', 'PEG', 'PTC', 'PSA', 'PHM', 'PWR', 'QCOM', 'DGX', 'RL', 'RJF', 'RTX', 'O', 'REG', 'REGN', 'RF', 'RSG', 'RMD', 'RVTY', 'ROK', 'ROL', 'ROP', 'ROST', 'RCL', 'SPGI', 'CRM', 'SBAC', 'SLB', 'STX', 'SRE', 'NOW', 'SHW', 'SPG', 'SWKS', 'SJM', 'SW', 'SNA', 'SOLV', 'SO', 'LUV', 'SWK', 'SBUX', 'STT', 'STLD', 'STE', 'SYK', 'SMCI', 'SYF', 'SNPS', 'SYY', 'TMUS', 'TROW', 'TTWO', 'TPR', 'TRGP', 'TGT', 'TEL', 'TDY', 'TFX', 'TER', 'TSLA', 'TXN', 'TPL', 'TXT', 'TMO', 'TJX', 'TSCO', 'TT', 'TDG', 'TRV', 'TRMB', 'TFC', 'TYL', 'TSN', 'USB', 'UBER', 'UDR', 'ULTA', 'UNP', 'UAL', 'UPS', 'URI', 'UNH', 'UHS', 'VLO', 'VTR', 'VLTO', 'VRSN', 'VRSK', 'VZ', 'VRTX', 'VTRS', 'VICI', 'V', 'VST', 'VMC', 'WRB', 'GWW', 'WAB', 'WBA', 'WMT', 'DIS', 'WBD', 'WM', 'WAT', 'WEC', 'WFC', 'WELL', 'WST', 'WDC', 'WY', 'WMB', 'WTW', 'WDAY', 'WYNN', 'XEL', 'XYL', 'YUM', 'ZBRA', 'ZBH', 'ZTS']\n"
     ]
    }
   ],
   "source": [
    "import pandas as pd\n",
    "url = \"https://en.wikipedia.org/wiki/List_of_S%26P_500_companies\"\n",
    "tables = pd.read_html(url)\n",
    "sp500_df = tables[0]  # 第一个表格通常是成分股列表\n",
    "tickers = sp500_df['Symbol'].tolist()  # 获取ticker列\n",
    "print(tickers)"
   ]
  },
  {
   "cell_type": "code",
   "execution_count": 1,
   "metadata": {},
   "outputs": [],
   "source": [
    "content = \"\"\"通过查询，我们获得了2023年以来TSLA股价的历史走势，并识别了至少三个关键事件（如宏观经济政策变化、新能源汽车竞争加剧等），这些都引发了市场的强烈反应。我们进一步研究了这些事件的具体影响及其后的市场表现。\n",
    "\n",
    "<meta_cognition> 通过元认知监督认知过程，使用元认知方法论得出的反思</meta_cognition>\n",
    "\n",
    "#### 第四步：结论与展望\n",
    "- **结论**：\n",
    "  - 恐慌情绪对TSLA股价的影响显著。特别是重大政策变化和竞争对手的动作往往会引发市场恐慌。\n",
    "  - TSLA需要在面临这些外部压力时，通过提高透明度、强化产品竞争力等方式来减少负面影响。\n",
    "\n",
    "<goals>根据meta_cognition标签和step标签中的内容,拆解出下一步量化目标</goals>\n",
    "- 预测未来一个月TSLA股价走势\n",
    "- 根据历史数据调整预测模型\n",
    "\n",
    "<queries>根据meta_cognition标签和goals标签中的内容，思考后生成需要google搜索引擎的查询关键词组</queries>\n",
    "- TSLA股价预测模型\n",
    "- 历史股票价格预测方法与案例研究\n",
    "\n",
    "<questions>根据meta_cognition标签和goals标签中的内容，思考后得出需要向外界专家请教和验证的问题</quesitons>\n",
    "- 如何利用历史数据构建TSLA的股价预测模型？\n",
    "- 是否有现成的工具或库可以帮助实现这些模型？\n",
    "\n",
    "<answers>根据meta_cognition标签和goals标签中的内容,以及question标签中的问题，尝试给出答案，同时使用元认知监督回答过程中的感觉</answers>\n",
    "- 在研究过程中感到需要学习如何构建预测模型。\n",
    "- 感觉对实际数据的获取比较容易，但如何准确建模仍需更多实践。\n",
    "\n",
    "<revises>根据meta_cognition标签和goals标签中的内容,对前面相关任务需求进行修订，然后输出修改后的内容。</revises>\n",
    "- **明确任务**：利用历史数据构建TSLA股价预测模型，并结合当前市场环境进行预测。\n",
    "- **目标细化**：\n",
    "  - 利用Python或R等工具建立预测模型\n",
    "  - 根据模型结果确定一个月后的TSLA股价预期\"\"\""
   ]
  },
  {
   "cell_type": "code",
   "execution_count": 2,
   "metadata": {},
   "outputs": [
    {
     "name": "stdout",
     "output_type": "stream",
     "text": [
      "通过查询，我们获得了2023年以来TSLA股价的历史走势，并识别了至少三个关键事件（如宏观经济政策变化、新能源汽车竞争加剧等），这些都引发了市场的强烈反应。我们进一步研究了这些事件的具体影响及其后的市场表现。\n",
      "\n",
      "<meta_cognition> 通过元认知监督认知过程，使用元认知方法论得出的反思</meta_cognition>\n",
      "\n",
      "#### 第四步：结论与展望\n",
      "- **结论**：\n",
      "  - 恐慌情绪对TSLA股价的影响显著。特别是重大政策变化和竞争对手的动作往往会引发市场恐慌。\n",
      "  - TSLA需要在面临这些外部压力时，通过提高透明度、强化产品竞争力等方式来减少负面影响。\n",
      "\n",
      "<goals>根据meta_cognition标签和step标签中的内容,拆解出下一步量化目标</goals>\n",
      "- 预测未来一个月TSLA股价走势\n",
      "- 根据历史数据调整预测模型\n",
      "\n",
      "<queries>根据meta_cognition标签和goals标签中的内容，思考后生成需要google搜索引擎的查询关键词组</queries>\n",
      "- TSLA股价预测模型\n",
      "- 历史股票价格预测方法与案例研究\n",
      "\n",
      "<questions>根据meta_cognition标签和goals标签中的内容，思考后得出需要向外界专家请教和验证的问题</quesitons>\n",
      "- 如何利用历史数据构建TSLA的股价预测模型？\n",
      "- 是否有现成的工具或库可以帮助实现这些模型？\n",
      "\n",
      "<answers>根据meta_cognition标签和goals标签中的内容,以及question标签中的问题，尝试给出答案，同时使用元认知监督回答过程中的感觉</answers>\n",
      "- 在研究过程中感到需要学习如何构建预测模型。\n",
      "- 感觉对实际数据的获取比较容易，但如何准确建模仍需更多实践。\n",
      "\n",
      "<revises>根据meta_cognition标签和goals标签中的内容,对前面相关任务需求进行修订，然后输出修改后的内容。</revises>\n",
      "- **明确任务**：利用历史数据构建TSLA股价预测模型，并结合当前市场环境进行预测。\n",
      "- **目标细化**：\n",
      "  - 利用Python或R等工具建立预测模型\n",
      "  - 根据模型结果确定一个月后的TSLA股价预期\n"
     ]
    }
   ],
   "source": [
    "print(content)"
   ]
  },
  {
   "cell_type": "code",
   "execution_count": 17,
   "metadata": {},
   "outputs": [
    {
     "name": "stdout",
     "output_type": "stream",
     "text": [
      "[]\n"
     ]
    }
   ],
   "source": [
    "import re\n",
    "meta_thinks = re.findall(r\"<meta_cognition>(.*?)</meta_cognition>(.*?)<queries>(.*?)</queries>(.*?)<questions>(.*?)</quesitions>\", content, flags=re.DOTALL)\n",
    "print(meta_thinks)"
   ]
  },
  {
   "cell_type": "code",
   "execution_count": 18,
   "metadata": {},
   "outputs": [
    {
     "data": {
      "text/plain": [
       "{'$defs': {'SearchStructure': {'description': '通过搜索来完成目标所必须的信息',\n",
       "   'properties': {'goal': {'description': '具体想要达成的目标',\n",
       "     'title': 'Goal',\n",
       "     'type': 'string'},\n",
       "    'question': {'description': '想通过搜索获取资料后去解决的问题',\n",
       "     'title': 'Question',\n",
       "     'type': 'string'},\n",
       "    'queries': {'description': '关键词列表',\n",
       "     'items': {'type': 'string'},\n",
       "     'title': 'Queries',\n",
       "     'type': 'array'}},\n",
       "   'required': ['goal', 'question', 'queries'],\n",
       "   'title': 'SearchStructure',\n",
       "   'type': 'object'}},\n",
       " 'description': '用元认知来监督认知的过程可以分为以下几个关键步骤：\\n认知监控（Cognitive Monitoring）\\n这是指在进行认知任务时，实时评估自己的表现和理解程度。比如，你可以问自己：“我真的明白了吗？”或者“我做得对不对？”通过这种方式，你能及时发现问题或不足。\\n\\n认知调节（Cognitive Regulation）\\n根据监控的结果，调整自己的认知策略。如果发现当前方法效果不佳，你可以改变学习或解决问题的方式，比如换一种更适合的工具、资源，或者调整注意力。\\n\\n自我评估（Self-Assessment）\\n在任务完成后，反思自己的表现和成果。这一步骤帮助你判断是否达到了目标，并总结经验教训，为下次改进提供依据。\\n\\n规划（Planning）\\n在开始新任务前，利用过去的经验制定计划。这包括设定目标、选择策略、准备资源，并预测可能遇到的困难及应对方法。',\n",
       " 'properties': {'meta_cognition': {'description': '根据前面的相关内容，元认知监督认知要采用的具体步骤',\n",
       "   'title': 'Meta Cognition',\n",
       "   'type': 'string'},\n",
       "  'cognition': {'description': '根据前面监督的具体步骤，运用元认知监督认知得到的新认知',\n",
       "   'title': 'Cognition',\n",
       "   'type': 'string'},\n",
       "  'reflection': {'description': '根据元认知监督认知得到的新认知，运用元认知监督认知得出的反思',\n",
       "   'title': 'Reflection',\n",
       "   'type': 'string'},\n",
       "  'steps': {'description': '根据元认知监督认知得到的新认知和反思，生成接下来要做的步骤列表',\n",
       "   'items': {'type': 'string'},\n",
       "   'title': 'Steps',\n",
       "   'type': 'array'},\n",
       "  'search_structure': {'description': '根据要做的步骤列表，生成搜尋結構',\n",
       "   'items': {'$ref': '#/$defs/SearchStructure'},\n",
       "   'title': 'Search Structure',\n",
       "   'type': 'array'}},\n",
       " 'required': ['meta_cognition',\n",
       "  'cognition',\n",
       "  'reflection',\n",
       "  'steps',\n",
       "  'search_structure'],\n",
       " 'title': 'MetaCognition',\n",
       " 'type': 'object'}"
      ]
     },
     "execution_count": 18,
     "metadata": {},
     "output_type": "execute_result"
    }
   ],
   "source": [
    "\n",
    "from unittest.mock import Base\n",
    "from pydantic import BaseModel, Field\n",
    "class SearchStructure(BaseModel):\n",
    "    '''通过搜索来完成目标所必须的信息'''\n",
    "    goal: str = Field(description=\"具体想要达成的目标\")\n",
    "    question: str = Field(description=\"想通过搜索获取资料后去解决的问题\")\n",
    "    queries: list[str] = Field(description=\"关键词列表\")\n",
    "class MetaCognition(BaseModel):\n",
    "    '''用元认知来监督认知的过程可以分为以下几个关键步骤：\n",
    "认知监控（Cognitive Monitoring）\n",
    "这是指在进行认知任务时，实时评估自己的表现和理解程度。比如，你可以问自己：“我真的明白了吗？”或者“我做得对不对？”通过这种方式，你能及时发现问题或不足。\n",
    "\n",
    "认知调节（Cognitive Regulation）\n",
    "根据监控的结果，调整自己的认知策略。如果发现当前方法效果不佳，你可以改变学习或解决问题的方式，比如换一种更适合的工具、资源，或者调整注意力。\n",
    "\n",
    "自我评估（Self-Assessment）\n",
    "在任务完成后，反思自己的表现和成果。这一步骤帮助你判断是否达到了目标，并总结经验教训，为下次改进提供依据。\n",
    "\n",
    "规划（Planning）\n",
    "在开始新任务前，利用过去的经验制定计划。这包括设定目标、选择策略、准备资源，并预测可能遇到的困难及应对方法。'''\n",
    "    meta_cognition : str = Field(description=\"\"\"根据前面的相关内容，元认知监督认知要采用的具体步骤\"\"\")\n",
    "    cognition: str = Field(description=\"根据前面监督的具体步骤，运用元认知监督认知得到的新认知\")\n",
    "    reflection: str = Field(description=\"根据元认知监督认知得到的新认知，运用元认知监督认知得出的反思\")\n",
    "    steps: list[str] = Field(description=\"根据元认知监督认知得到的新认知和反思，生成接下来要做的步骤列表\")\n",
    "    search_structure: list[SearchStructure] = Field(description=\"根据要做的步骤列表，生成搜尋結構\")\n",
    "    \n",
    "class Think(BaseModel):\n",
    "    '''思考的方法论、目标、过程、结论与判断'''\n",
    "    think: str = Field(description=\"思考的方法论、目标、过程、结论与判断\")\n",
    "    \n",
    "MetaCognition.model_json_schema()\n",
    "#print(Think.model_json_schema())\n",
    "\n"
   ]
  },
  {
   "cell_type": "code",
   "execution_count": 10,
   "metadata": {},
   "outputs": [
    {
     "name": "stderr",
     "output_type": "stream",
     "text": [
      "C:\\Users\\hadoo\\AppData\\Local\\Temp\\ipykernel_34972\\4230969635.py:2: PydanticDeprecatedSince20: The `parse_obj` method is deprecated; use `model_validate` instead. Deprecated in Pydantic V2.0 to be removed in V3.0. See Pydantic V2 Migration Guide at https://errors.pydantic.dev/2.10/migration/\n",
      "  Think.parse_obj(raw_str)\n"
     ]
    },
    {
     "ename": "ValidationError",
     "evalue": "1 validation error for Think\nthink\n  Field required [type=missing, input_value={'description': '初步...hink', 'type': 'object'}, input_type=dict]\n    For further information visit https://errors.pydantic.dev/2.10/v/missing",
     "output_type": "error",
     "traceback": [
      "\u001b[1;31m---------------------------------------------------------------------------\u001b[0m",
      "\u001b[1;31mValidationError\u001b[0m                           Traceback (most recent call last)",
      "Cell \u001b[1;32mIn[10], line 2\u001b[0m\n\u001b[0;32m      1\u001b[0m raw_str \u001b[38;5;241m=\u001b[39m {\u001b[38;5;124m'\u001b[39m\u001b[38;5;124mdescription\u001b[39m\u001b[38;5;124m'\u001b[39m: \u001b[38;5;124m'\u001b[39m\u001b[38;5;124m初步了解特斯拉的股票特征。高波动性预示着其对市场情绪变化更加敏感，为后续恐慌情绪分析提供了背景。\u001b[39m\u001b[38;5;124m'\u001b[39m, \u001b[38;5;124m'\u001b[39m\u001b[38;5;124mproperties\u001b[39m\u001b[38;5;124m'\u001b[39m: {\u001b[38;5;124m'\u001b[39m\u001b[38;5;124mthink\u001b[39m\u001b[38;5;124m'\u001b[39m: \u001b[38;5;124m'\u001b[39m\u001b[38;5;124m特斯拉股价波动性高，意味着它更加容易受到市场情绪的影响。\u001b[39m\u001b[38;5;124m'\u001b[39m}, \u001b[38;5;124m'\u001b[39m\u001b[38;5;124mrequired\u001b[39m\u001b[38;5;124m'\u001b[39m: [\u001b[38;5;124m'\u001b[39m\u001b[38;5;124mthink\u001b[39m\u001b[38;5;124m'\u001b[39m], \u001b[38;5;124m'\u001b[39m\u001b[38;5;124mtitle\u001b[39m\u001b[38;5;124m'\u001b[39m: \u001b[38;5;124m'\u001b[39m\u001b[38;5;124mThink\u001b[39m\u001b[38;5;124m'\u001b[39m, \u001b[38;5;124m'\u001b[39m\u001b[38;5;124mtype\u001b[39m\u001b[38;5;124m'\u001b[39m: \u001b[38;5;124m'\u001b[39m\u001b[38;5;124mobject\u001b[39m\u001b[38;5;124m'\u001b[39m}\n\u001b[1;32m----> 2\u001b[0m Think\u001b[38;5;241m.\u001b[39mparse_obj(raw_str)\n",
      "File \u001b[1;32mc:\\Users\\hadoo\\anaconda3\\Lib\\site-packages\\pydantic\\main.py:1222\u001b[0m, in \u001b[0;36mBaseModel.parse_obj\u001b[1;34m(cls, obj)\u001b[0m\n\u001b[0;32m   1214\u001b[0m \u001b[38;5;129m@classmethod\u001b[39m\n\u001b[0;32m   1215\u001b[0m \u001b[38;5;129m@typing_extensions\u001b[39m\u001b[38;5;241m.\u001b[39mdeprecated(\u001b[38;5;124m'\u001b[39m\u001b[38;5;124mThe `parse_obj` method is deprecated; use `model_validate` instead.\u001b[39m\u001b[38;5;124m'\u001b[39m, category\u001b[38;5;241m=\u001b[39m\u001b[38;5;28;01mNone\u001b[39;00m)\n\u001b[0;32m   1216\u001b[0m \u001b[38;5;28;01mdef\u001b[39;00m \u001b[38;5;21mparse_obj\u001b[39m(\u001b[38;5;28mcls\u001b[39m, obj: Any) \u001b[38;5;241m-\u001b[39m\u001b[38;5;241m>\u001b[39m Self:  \u001b[38;5;66;03m# noqa: D102\u001b[39;00m\n\u001b[0;32m   1217\u001b[0m     warnings\u001b[38;5;241m.\u001b[39mwarn(\n\u001b[0;32m   1218\u001b[0m         \u001b[38;5;124m'\u001b[39m\u001b[38;5;124mThe `parse_obj` method is deprecated; use `model_validate` instead.\u001b[39m\u001b[38;5;124m'\u001b[39m,\n\u001b[0;32m   1219\u001b[0m         category\u001b[38;5;241m=\u001b[39mPydanticDeprecatedSince20,\n\u001b[0;32m   1220\u001b[0m         stacklevel\u001b[38;5;241m=\u001b[39m\u001b[38;5;241m2\u001b[39m,\n\u001b[0;32m   1221\u001b[0m     )\n\u001b[1;32m-> 1222\u001b[0m     \u001b[38;5;28;01mreturn\u001b[39;00m \u001b[38;5;28mcls\u001b[39m\u001b[38;5;241m.\u001b[39mmodel_validate(obj)\n",
      "File \u001b[1;32mc:\\Users\\hadoo\\anaconda3\\Lib\\site-packages\\pydantic\\main.py:627\u001b[0m, in \u001b[0;36mBaseModel.model_validate\u001b[1;34m(cls, obj, strict, from_attributes, context)\u001b[0m\n\u001b[0;32m    625\u001b[0m \u001b[38;5;66;03m# `__tracebackhide__` tells pytest and some other tools to omit this function from tracebacks\u001b[39;00m\n\u001b[0;32m    626\u001b[0m __tracebackhide__ \u001b[38;5;241m=\u001b[39m \u001b[38;5;28;01mTrue\u001b[39;00m\n\u001b[1;32m--> 627\u001b[0m \u001b[38;5;28;01mreturn\u001b[39;00m \u001b[38;5;28mcls\u001b[39m\u001b[38;5;241m.\u001b[39m__pydantic_validator__\u001b[38;5;241m.\u001b[39mvalidate_python(\n\u001b[0;32m    628\u001b[0m     obj, strict\u001b[38;5;241m=\u001b[39mstrict, from_attributes\u001b[38;5;241m=\u001b[39mfrom_attributes, context\u001b[38;5;241m=\u001b[39mcontext\n\u001b[0;32m    629\u001b[0m )\n",
      "\u001b[1;31mValidationError\u001b[0m: 1 validation error for Think\nthink\n  Field required [type=missing, input_value={'description': '初步...hink', 'type': 'object'}, input_type=dict]\n    For further information visit https://errors.pydantic.dev/2.10/v/missing"
     ]
    }
   ],
   "source": [
    "raw_str = {'description': '初步了解特斯拉的股票特征。高波动性预示着其对市场情绪变化更加敏感，为后续恐慌情绪分析提供了背景。', 'properties': {'think': '特斯拉股价波动性高，意味着它更加容易受到市场情绪的影响。'}, 'required': ['think'], 'title': 'Think', 'type': 'object'}\n",
    "Think.parse_obj(raw_str)"
   ]
  },
  {
   "cell_type": "code",
   "execution_count": 7,
   "metadata": {},
   "outputs": [
    {
     "ename": "KeyboardInterrupt",
     "evalue": "",
     "output_type": "error",
     "traceback": [
      "\u001b[1;31m---------------------------------------------------------------------------\u001b[0m",
      "\u001b[1;31mKeyboardInterrupt\u001b[0m                         Traceback (most recent call last)",
      "Cell \u001b[1;32mIn[7], line 18\u001b[0m\n\u001b[0;32m     14\u001b[0m   friends: \u001b[38;5;28mlist\u001b[39m[FriendInfo]\n\u001b[0;32m     17\u001b[0m \u001b[38;5;66;03m# schema = {'type': 'object', 'properties': {'friends': {'type': 'array', 'items': {'type': 'object', 'properties': {'name': {'type': 'string'}, 'age': {'type': 'integer'}, 'is_available': {'type': 'boolean'}}, 'required': ['name', 'age', 'is_available']}}}, 'required': ['friends']}\u001b[39;00m\n\u001b[1;32m---> 18\u001b[0m response \u001b[38;5;241m=\u001b[39m client\u001b[38;5;241m.\u001b[39mchat(\n\u001b[0;32m     19\u001b[0m   model\u001b[38;5;241m=\u001b[39m\u001b[38;5;124m'\u001b[39m\u001b[38;5;124mqwen2.5:latest\u001b[39m\u001b[38;5;124m'\u001b[39m,\n\u001b[0;32m     20\u001b[0m   messages\u001b[38;5;241m=\u001b[39m[{\u001b[38;5;124m'\u001b[39m\u001b[38;5;124mrole\u001b[39m\u001b[38;5;124m'\u001b[39m: \u001b[38;5;124m'\u001b[39m\u001b[38;5;124muser\u001b[39m\u001b[38;5;124m'\u001b[39m, \u001b[38;5;124m'\u001b[39m\u001b[38;5;124mcontent\u001b[39m\u001b[38;5;124m'\u001b[39m: \u001b[38;5;124m'\u001b[39m\u001b[38;5;124mI have two friends. The first is Ollama 22 years old busy saving the world, and the second is Alonso 23 years old and wants to hang out. Return a list of friends in JSON format\u001b[39m\u001b[38;5;124m'\u001b[39m}],\n\u001b[0;32m     21\u001b[0m   \u001b[38;5;28mformat\u001b[39m\u001b[38;5;241m=\u001b[39mFriendList\u001b[38;5;241m.\u001b[39mmodel_json_schema(),  \u001b[38;5;66;03m# Use Pydantic to generate the schema or format=schema\u001b[39;00m\n\u001b[0;32m     22\u001b[0m   options\u001b[38;5;241m=\u001b[39m{\u001b[38;5;124m'\u001b[39m\u001b[38;5;124mtemperature\u001b[39m\u001b[38;5;124m'\u001b[39m: \u001b[38;5;241m0\u001b[39m},  \u001b[38;5;66;03m# Make responses more deterministic\u001b[39;00m\n\u001b[0;32m     23\u001b[0m   \u001b[38;5;66;03m#stream=True\u001b[39;00m\n\u001b[0;32m     24\u001b[0m )\n\u001b[0;32m     26\u001b[0m \u001b[38;5;28;01mfor\u001b[39;00m chunk \u001b[38;5;129;01min\u001b[39;00m response:\n\u001b[0;32m     27\u001b[0m   \u001b[38;5;28mprint\u001b[39m(chunk\u001b[38;5;241m.\u001b[39mmessage\u001b[38;5;241m.\u001b[39mcontent, end\u001b[38;5;241m=\u001b[39m\u001b[38;5;124m'\u001b[39m\u001b[38;5;124m'\u001b[39m)\n",
      "File \u001b[1;32mc:\\Users\\hadoo\\anaconda3\\Lib\\site-packages\\ollama\\_client.py:333\u001b[0m, in \u001b[0;36mClient.chat\u001b[1;34m(self, model, messages, tools, stream, format, options, keep_alive)\u001b[0m\n\u001b[0;32m    289\u001b[0m \u001b[38;5;28;01mdef\u001b[39;00m \u001b[38;5;21mchat\u001b[39m(\n\u001b[0;32m    290\u001b[0m   \u001b[38;5;28mself\u001b[39m,\n\u001b[0;32m    291\u001b[0m   model: \u001b[38;5;28mstr\u001b[39m \u001b[38;5;241m=\u001b[39m \u001b[38;5;124m'\u001b[39m\u001b[38;5;124m'\u001b[39m,\n\u001b[1;32m   (...)\u001b[0m\n\u001b[0;32m    298\u001b[0m   keep_alive: Optional[Union[\u001b[38;5;28mfloat\u001b[39m, \u001b[38;5;28mstr\u001b[39m]] \u001b[38;5;241m=\u001b[39m \u001b[38;5;28;01mNone\u001b[39;00m,\n\u001b[0;32m    299\u001b[0m ) \u001b[38;5;241m-\u001b[39m\u001b[38;5;241m>\u001b[39m Union[ChatResponse, Iterator[ChatResponse]]:\n\u001b[0;32m    300\u001b[0m \u001b[38;5;250m  \u001b[39m\u001b[38;5;124;03m\"\"\"\u001b[39;00m\n\u001b[0;32m    301\u001b[0m \u001b[38;5;124;03m  Create a chat response using the requested model.\u001b[39;00m\n\u001b[0;32m    302\u001b[0m \n\u001b[1;32m   (...)\u001b[0m\n\u001b[0;32m    331\u001b[0m \u001b[38;5;124;03m  Returns `ChatResponse` if `stream` is `False`, otherwise returns a `ChatResponse` generator.\u001b[39;00m\n\u001b[0;32m    332\u001b[0m \u001b[38;5;124;03m  \"\"\"\u001b[39;00m\n\u001b[1;32m--> 333\u001b[0m   \u001b[38;5;28;01mreturn\u001b[39;00m \u001b[38;5;28mself\u001b[39m\u001b[38;5;241m.\u001b[39m_request(\n\u001b[0;32m    334\u001b[0m     ChatResponse,\n\u001b[0;32m    335\u001b[0m     \u001b[38;5;124m'\u001b[39m\u001b[38;5;124mPOST\u001b[39m\u001b[38;5;124m'\u001b[39m,\n\u001b[0;32m    336\u001b[0m     \u001b[38;5;124m'\u001b[39m\u001b[38;5;124m/api/chat\u001b[39m\u001b[38;5;124m'\u001b[39m,\n\u001b[0;32m    337\u001b[0m     json\u001b[38;5;241m=\u001b[39mChatRequest(\n\u001b[0;32m    338\u001b[0m       model\u001b[38;5;241m=\u001b[39mmodel,\n\u001b[0;32m    339\u001b[0m       messages\u001b[38;5;241m=\u001b[39m[message \u001b[38;5;28;01mfor\u001b[39;00m message \u001b[38;5;129;01min\u001b[39;00m _copy_messages(messages)],\n\u001b[0;32m    340\u001b[0m       tools\u001b[38;5;241m=\u001b[39m[tool \u001b[38;5;28;01mfor\u001b[39;00m tool \u001b[38;5;129;01min\u001b[39;00m _copy_tools(tools)],\n\u001b[0;32m    341\u001b[0m       stream\u001b[38;5;241m=\u001b[39mstream,\n\u001b[0;32m    342\u001b[0m       \u001b[38;5;28mformat\u001b[39m\u001b[38;5;241m=\u001b[39m\u001b[38;5;28mformat\u001b[39m,\n\u001b[0;32m    343\u001b[0m       options\u001b[38;5;241m=\u001b[39moptions,\n\u001b[0;32m    344\u001b[0m       keep_alive\u001b[38;5;241m=\u001b[39mkeep_alive,\n\u001b[0;32m    345\u001b[0m     )\u001b[38;5;241m.\u001b[39mmodel_dump(exclude_none\u001b[38;5;241m=\u001b[39m\u001b[38;5;28;01mTrue\u001b[39;00m),\n\u001b[0;32m    346\u001b[0m     stream\u001b[38;5;241m=\u001b[39mstream,\n\u001b[0;32m    347\u001b[0m   )\n",
      "File \u001b[1;32mc:\\Users\\hadoo\\anaconda3\\Lib\\site-packages\\ollama\\_client.py:178\u001b[0m, in \u001b[0;36mClient._request\u001b[1;34m(self, cls, stream, *args, **kwargs)\u001b[0m\n\u001b[0;32m    174\u001b[0m         \u001b[38;5;28;01myield\u001b[39;00m \u001b[38;5;28mcls\u001b[39m(\u001b[38;5;241m*\u001b[39m\u001b[38;5;241m*\u001b[39mpart)\n\u001b[0;32m    176\u001b[0m   \u001b[38;5;28;01mreturn\u001b[39;00m inner()\n\u001b[1;32m--> 178\u001b[0m \u001b[38;5;28;01mreturn\u001b[39;00m \u001b[38;5;28mcls\u001b[39m(\u001b[38;5;241m*\u001b[39m\u001b[38;5;241m*\u001b[39m\u001b[38;5;28mself\u001b[39m\u001b[38;5;241m.\u001b[39m_request_raw(\u001b[38;5;241m*\u001b[39margs, \u001b[38;5;241m*\u001b[39m\u001b[38;5;241m*\u001b[39mkwargs)\u001b[38;5;241m.\u001b[39mjson())\n",
      "File \u001b[1;32mc:\\Users\\hadoo\\anaconda3\\Lib\\site-packages\\ollama\\_client.py:120\u001b[0m, in \u001b[0;36mClient._request_raw\u001b[1;34m(self, *args, **kwargs)\u001b[0m\n\u001b[0;32m    118\u001b[0m   r \u001b[38;5;241m=\u001b[39m \u001b[38;5;28mself\u001b[39m\u001b[38;5;241m.\u001b[39m_client\u001b[38;5;241m.\u001b[39mrequest(\u001b[38;5;241m*\u001b[39margs, \u001b[38;5;241m*\u001b[39m\u001b[38;5;241m*\u001b[39mkwargs)\n\u001b[0;32m    119\u001b[0m   r\u001b[38;5;241m.\u001b[39mraise_for_status()\n\u001b[1;32m--> 120\u001b[0m   \u001b[38;5;28;01mreturn\u001b[39;00m r\n\u001b[0;32m    121\u001b[0m \u001b[38;5;28;01mexcept\u001b[39;00m httpx\u001b[38;5;241m.\u001b[39mHTTPStatusError \u001b[38;5;28;01mas\u001b[39;00m e:\n\u001b[0;32m    122\u001b[0m   \u001b[38;5;28;01mraise\u001b[39;00m ResponseError(e\u001b[38;5;241m.\u001b[39mresponse\u001b[38;5;241m.\u001b[39mtext, e\u001b[38;5;241m.\u001b[39mresponse\u001b[38;5;241m.\u001b[39mstatus_code) \u001b[38;5;28;01mfrom\u001b[39;00m \u001b[38;5;28;01mNone\u001b[39;00m\n",
      "File \u001b[1;32mc:\\Users\\hadoo\\anaconda3\\Lib\\site-packages\\debugpy\\_vendored\\pydevd\\_pydevd_bundle\\pydevd_frame.py:1197\u001b[0m, in \u001b[0;36mPyDBFrame.trace_dispatch\u001b[1;34m(self, frame, event, arg)\u001b[0m\n\u001b[0;32m   1195\u001b[0m \u001b[38;5;28;01mif\u001b[39;00m is_line:\n\u001b[0;32m   1196\u001b[0m     \u001b[38;5;28mself\u001b[39m\u001b[38;5;241m.\u001b[39mset_suspend(thread, step_cmd, original_step_cmd\u001b[38;5;241m=\u001b[39minfo\u001b[38;5;241m.\u001b[39mpydev_original_step_cmd)\n\u001b[1;32m-> 1197\u001b[0m     \u001b[38;5;28mself\u001b[39m\u001b[38;5;241m.\u001b[39mdo_wait_suspend(thread, frame, event, arg)\n\u001b[0;32m   1198\u001b[0m \u001b[38;5;28;01melif\u001b[39;00m is_return:  \u001b[38;5;66;03m# return event\u001b[39;00m\n\u001b[0;32m   1199\u001b[0m     back \u001b[38;5;241m=\u001b[39m frame\u001b[38;5;241m.\u001b[39mf_back\n",
      "File \u001b[1;32mc:\\Users\\hadoo\\anaconda3\\Lib\\site-packages\\debugpy\\_vendored\\pydevd\\_pydevd_bundle\\pydevd_frame.py:165\u001b[0m, in \u001b[0;36mPyDBFrame.do_wait_suspend\u001b[1;34m(self, *args, **kwargs)\u001b[0m\n\u001b[0;32m    164\u001b[0m \u001b[38;5;28;01mdef\u001b[39;00m \u001b[38;5;21mdo_wait_suspend\u001b[39m(\u001b[38;5;28mself\u001b[39m, \u001b[38;5;241m*\u001b[39margs, \u001b[38;5;241m*\u001b[39m\u001b[38;5;241m*\u001b[39mkwargs):\n\u001b[1;32m--> 165\u001b[0m     \u001b[38;5;28mself\u001b[39m\u001b[38;5;241m.\u001b[39m_args[\u001b[38;5;241m0\u001b[39m]\u001b[38;5;241m.\u001b[39mdo_wait_suspend(\u001b[38;5;241m*\u001b[39margs, \u001b[38;5;241m*\u001b[39m\u001b[38;5;241m*\u001b[39mkwargs)\n",
      "File \u001b[1;32mc:\\Users\\hadoo\\anaconda3\\Lib\\site-packages\\debugpy\\_vendored\\pydevd\\pydevd.py:2070\u001b[0m, in \u001b[0;36mPyDB.do_wait_suspend\u001b[1;34m(self, thread, frame, event, arg, exception_type)\u001b[0m\n\u001b[0;32m   2067\u001b[0m             from_this_thread\u001b[38;5;241m.\u001b[39mappend(frame_custom_thread_id)\n\u001b[0;32m   2069\u001b[0m     \u001b[38;5;28;01mwith\u001b[39;00m \u001b[38;5;28mself\u001b[39m\u001b[38;5;241m.\u001b[39m_threads_suspended_single_notification\u001b[38;5;241m.\u001b[39mnotify_thread_suspended(thread_id, thread, stop_reason):\n\u001b[1;32m-> 2070\u001b[0m         keep_suspended \u001b[38;5;241m=\u001b[39m \u001b[38;5;28mself\u001b[39m\u001b[38;5;241m.\u001b[39m_do_wait_suspend(thread, frame, event, arg, suspend_type, from_this_thread, frames_tracker)\n\u001b[0;32m   2072\u001b[0m frames_list \u001b[38;5;241m=\u001b[39m \u001b[38;5;28;01mNone\u001b[39;00m\n\u001b[0;32m   2074\u001b[0m \u001b[38;5;28;01mif\u001b[39;00m keep_suspended:\n\u001b[0;32m   2075\u001b[0m     \u001b[38;5;66;03m# This means that we should pause again after a set next statement.\u001b[39;00m\n",
      "File \u001b[1;32mc:\\Users\\hadoo\\anaconda3\\Lib\\site-packages\\debugpy\\_vendored\\pydevd\\pydevd.py:2106\u001b[0m, in \u001b[0;36mPyDB._do_wait_suspend\u001b[1;34m(self, thread, frame, event, arg, suspend_type, from_this_thread, frames_tracker)\u001b[0m\n\u001b[0;32m   2103\u001b[0m         \u001b[38;5;28mself\u001b[39m\u001b[38;5;241m.\u001b[39m_call_input_hook()\n\u001b[0;32m   2105\u001b[0m     \u001b[38;5;28mself\u001b[39m\u001b[38;5;241m.\u001b[39mprocess_internal_commands()\n\u001b[1;32m-> 2106\u001b[0m     time\u001b[38;5;241m.\u001b[39msleep(\u001b[38;5;241m0.01\u001b[39m)\n\u001b[0;32m   2108\u001b[0m \u001b[38;5;28mself\u001b[39m\u001b[38;5;241m.\u001b[39mcancel_async_evaluation(get_current_thread_id(thread), \u001b[38;5;28mstr\u001b[39m(\u001b[38;5;28mid\u001b[39m(frame)))\n\u001b[0;32m   2110\u001b[0m \u001b[38;5;66;03m# process any stepping instructions\u001b[39;00m\n",
      "\u001b[1;31mKeyboardInterrupt\u001b[0m: "
     ]
    }
   ],
   "source": [
    "from pydantic import BaseModel\n",
    "\n",
    "from ollama import Client\n",
    "client = Client(host='http://127.0.0.1:11434')\n",
    "\n",
    "# Define the schema for the response\n",
    "class FriendInfo(BaseModel):\n",
    "  name: str\n",
    "  age: int\n",
    "  is_available: bool\n",
    "\n",
    "\n",
    "class FriendList(BaseModel):\n",
    "  friends: list[FriendInfo]\n",
    "\n",
    "\n",
    "# schema = {'type': 'object', 'properties': {'friends': {'type': 'array', 'items': {'type': 'object', 'properties': {'name': {'type': 'string'}, 'age': {'type': 'integer'}, 'is_available': {'type': 'boolean'}}, 'required': ['name', 'age', 'is_available']}}}, 'required': ['friends']}\n",
    "response = client.chat(\n",
    "  model='qwen2.5:latest',\n",
    "  messages=[{'role': 'user', 'content': 'I have two friends. The first is Ollama 22 years old busy saving the world, and the second is Alonso 23 years old and wants to hang out. Return a list of friends in JSON format'}],\n",
    "  format=FriendList.model_json_schema(),  # Use Pydantic to generate the schema or format=schema\n",
    "  options={'temperature': 0},  # Make responses more deterministic\n",
    "  #stream=True\n",
    ")\n",
    "\n",
    "for chunk in response:\n",
    "  print(chunk.message.content, end='')\n",
    "# Use Pydantic to validate the response\n",
    "# friends_response = FriendList.model_validate_json(response.message.content)\n",
    "# print(friends_response)"
   ]
  }
 ],
 "metadata": {
  "kernelspec": {
   "display_name": "base",
   "language": "python",
   "name": "python3"
  },
  "language_info": {
   "codemirror_mode": {
    "name": "ipython",
    "version": 3
   },
   "file_extension": ".py",
   "mimetype": "text/x-python",
   "name": "python",
   "nbconvert_exporter": "python",
   "pygments_lexer": "ipython3",
   "version": "3.12.7"
  }
 },
 "nbformat": 4,
 "nbformat_minor": 2
}
